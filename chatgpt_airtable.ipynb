{
  "nbformat": 4,
  "nbformat_minor": 0,
  "metadata": {
    "colab": {
      "provenance": [],
      "authorship_tag": "ABX9TyN5D8OWupnfqn8z13xPtw6M",
      "include_colab_link": true
    },
    "kernelspec": {
      "name": "python3",
      "display_name": "Python 3"
    },
    "language_info": {
      "name": "python"
    }
  },
  "cells": [
    {
      "cell_type": "markdown",
      "metadata": {
        "id": "view-in-github",
        "colab_type": "text"
      },
      "source": [
        "<a href=\"https://colab.research.google.com/github/ChrisCruze/GoogleColab/blob/main/chatgpt_airtable.ipynb\" target=\"_parent\"><img src=\"https://colab.research.google.com/assets/colab-badge.svg\" alt=\"Open In Colab\"/></a>"
      ]
    },
    {
      "cell_type": "code",
      "execution_count": null,
      "metadata": {
        "id": "EVAPZ-KMaWZB"
      },
      "outputs": [],
      "source": [
        "!pip install openai\n",
        "!pip install python-dotenv"
      ]
    },
    {
      "cell_type": "code",
      "source": [
        "import openai\n",
        "import os\n",
        "#os.environ['OPENAI_API_KEY'] = ''\n",
        "\n",
        "openai.api_key = os.environ['OPENAI_API_KEY']\n",
        "prompt = 'What is your name?'\n",
        "response = openai.Completion.create(\n",
        "  model=\"text-davinci-003\",\n",
        "  prompt=prompt,\n",
        "  temperature=0.7,\n",
        "  max_tokens=256,\n",
        "  top_p=1,\n",
        "  frequency_penalty=0,\n",
        "  presence_penalty=0\n",
        ")\n",
        "response\n"
      ],
      "metadata": {
        "colab": {
          "base_uri": "https://localhost:8080/"
        },
        "id": "InVKYQdWdGEm",
        "outputId": "912b3993-44d4-4578-babb-17f6ac01e6d2"
      },
      "execution_count": 18,
      "outputs": [
        {
          "output_type": "execute_result",
          "data": {
            "text/plain": [
              "<OpenAIObject text_completion id=cmpl-7DHhiESqu6cIdMZOOVhtUiTAIl7Ay at 0x7f153c0f1120> JSON: {\n",
              "  \"choices\": [\n",
              "    {\n",
              "      \"finish_reason\": \"stop\",\n",
              "      \"index\": 0,\n",
              "      \"logprobs\": null,\n",
              "      \"text\": \"\\n\\nMy name is [your name here].\"\n",
              "    }\n",
              "  ],\n",
              "  \"created\": 1683400674,\n",
              "  \"id\": \"cmpl-7DHhiESqu6cIdMZOOVhtUiTAIl7Ay\",\n",
              "  \"model\": \"text-davinci-003\",\n",
              "  \"object\": \"text_completion\",\n",
              "  \"usage\": {\n",
              "    \"completion_tokens\": 10,\n",
              "    \"prompt_tokens\": 5,\n",
              "    \"total_tokens\": 15\n",
              "  }\n",
              "}"
            ]
          },
          "metadata": {},
          "execution_count": 18
        }
      ]
    },
    {
      "cell_type": "code",
      "source": [
        "from dotenv import load_dotenv\n",
        "load_dotenv()"
      ],
      "metadata": {
        "id": "rzw7bgoidjFa",
        "outputId": "ade82ea3-2e1b-489d-d726-8d84a545e46d",
        "colab": {
          "base_uri": "https://localhost:8080/"
        }
      },
      "execution_count": 6,
      "outputs": [
        {
          "output_type": "execute_result",
          "data": {
            "text/plain": [
              "False"
            ]
          },
          "metadata": {},
          "execution_count": 6
        }
      ]
    },
    {
      "cell_type": "code",
      "source": [
        "from dotenv import load_dotenv\n",
        "import dotenv\n",
        "dotenv.load_dotenv('./.env')\n",
        "print (os.getenv(\"OPENAI_API_KEY\"))\n",
        "# import os\n",
        "# os.environ['REDDIT_NAME'] = 'something'\n",
        "# print(os.getenv('REDDIT_NAME'))\n",
        "\n",
        "\n",
        "# load_dotenv()\n",
        "# my_id = os.getenv(\"OPENAI_API_KEY\")\n",
        "# my_id\n",
        "# import os\n",
        "# os.environ[\"\"]"
      ],
      "metadata": {
        "id": "DA3qQCLHeo1D",
        "outputId": "c9c796a9-e2b2-4578-d2c1-f571fa776d54",
        "colab": {
          "base_uri": "https://localhost:8080/"
        }
      },
      "execution_count": 16,
      "outputs": [
        {
          "output_type": "stream",
          "name": "stdout",
          "text": [
            "None\n"
          ]
        }
      ]
    },
    {
      "cell_type": "code",
      "source": [
        "print (os.getenv(\"OPENAI_API_KEY\"))"
      ],
      "metadata": {
        "id": "GN1GylvZfjpA",
        "outputId": "d1db6266-b91b-483c-bad3-941210078e37",
        "colab": {
          "base_uri": "https://localhost:8080/"
        }
      },
      "execution_count": 14,
      "outputs": [
        {
          "output_type": "stream",
          "name": "stdout",
          "text": [
            "None\n"
          ]
        }
      ]
    },
    {
      "cell_type": "code",
      "source": [
        "print (my_id)\n"
      ],
      "metadata": {
        "id": "BklB37GNe_kv",
        "outputId": "0eaec6b6-83a2-4d58-9cc6-bde9d1c53add",
        "colab": {
          "base_uri": "https://localhost:8080/"
        }
      },
      "execution_count": 11,
      "outputs": [
        {
          "output_type": "stream",
          "name": "stdout",
          "text": [
            "None\n"
          ]
        }
      ]
    },
    {
      "cell_type": "code",
      "source": [
        "response"
      ],
      "metadata": {
        "id": "ms_Ktd-ydaM5",
        "outputId": "4c2e1a38-0b97-406a-ff95-99005b9f5d97",
        "colab": {
          "base_uri": "https://localhost:8080/"
        }
      },
      "execution_count": 5,
      "outputs": [
        {
          "output_type": "execute_result",
          "data": {
            "text/plain": [
              "<OpenAIObject text_completion id=cmpl-7DHWrowrAtvQX0igNFNYC0VEdi2wm at 0x7f1561ad0040> JSON: {\n",
              "  \"choices\": [\n",
              "    {\n",
              "      \"finish_reason\": \"stop\",\n",
              "      \"index\": 0,\n",
              "      \"logprobs\": null,\n",
              "      \"text\": \"\\n\\nMy name is Ryan.\"\n",
              "    }\n",
              "  ],\n",
              "  \"created\": 1683400001,\n",
              "  \"id\": \"cmpl-7DHWrowrAtvQX0igNFNYC0VEdi2wm\",\n",
              "  \"model\": \"text-davinci-003\",\n",
              "  \"object\": \"text_completion\",\n",
              "  \"usage\": {\n",
              "    \"completion_tokens\": 7,\n",
              "    \"prompt_tokens\": 5,\n",
              "    \"total_tokens\": 12\n",
              "  }\n",
              "}"
            ]
          },
          "metadata": {},
          "execution_count": 5
        }
      ]
    }
  ]
}